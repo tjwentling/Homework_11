{
  "cells": [
    {
      "cell_type": "markdown",
      "metadata": {
        "id": "6lREZvF0Bei4"
      },
      "source": [
        "# Forecasting Net Prophet\n",
        "\n",
        "You’re a growth analyst at [MercadoLibre](http://investor.mercadolibre.com/investor-relations). With over 200 million users, MercadoLibre is the most popular e-commerce site in Latin America. You've been tasked with analyzing the company's financial and user data in clever ways to make the company grow. So, you want to find out if the ability to predict search traffic can translate into the ability to successfully trade the stock.\n"
      ]
    },
    {
      "cell_type": "markdown",
      "metadata": {
        "id": "lQ49CzctBei6"
      },
      "source": [
        "## Install and import the required libraries and dependencies"
      ]
    },
    {
      "cell_type": "code",
      "execution_count": null,
      "metadata": {
        "id": "wXTa9qtLBei6"
      },
      "outputs": [],
      "source": [
        "# Install the required libraries\n",
        "!pip install pystan\n",
        "!pip install prophet\n",
        "!pip install hvplot\n",
        "!pip install holoviews"
      ]
    },
    {
      "cell_type": "code",
      "execution_count": null,
      "metadata": {
        "id": "X6SyPyV5Bei6"
      },
      "outputs": [],
      "source": [
        "# Import the required libraries and dependencies\n",
        "from google.colab import files\n",
        "import warnings\n",
        "import numpy as np\n",
        "import pandas as pd\n",
        "import holoviews as hv\n",
        "from prophet import Prophet\n",
        "import hvplot.pandas\n",
        "import datetime as dt\n",
        "import matplotlib.pyplot as plt\n",
        "%matplotlib inline"
      ]
    },
    {
      "cell_type": "code",
      "execution_count": null,
      "metadata": {
        "id": "CYM5GKYR1reC"
      },
      "outputs": [],
      "source": [
        "# Ignoring warnings\n",
        "warnings.filterwarnings('ignore')"
      ]
    },
    {
      "cell_type": "markdown",
      "metadata": {
        "id": "pz2dMHUjBei7"
      },
      "source": [
        "## Step 1: Find Unusual Patterns in Hourly Google Search Traffic\n",
        "\n",
        "The data science manager asks if the Google search traffic for the company links to any financial events at the company. Or, does the search traffic data just present random noise? To answer this question, pick out any unusual patterns in the Google search data for the company, and connect them to the corporate financial events.\n",
        "\n",
        "To do so, complete the following steps:\n",
        "\n",
        "1. Read the search data into a DataFrame, and then slice the data to just the month of May 2020. (During this month, MercadoLibre released its quarterly financial results.) Use hvPlot to visualize the results. Do any unusual patterns exist?\n",
        "\n",
        "2. Calculate the total search traffic for the month, and then compare the value to the monthly median across all months. Did the Google search traffic increase during the month that MercadoLibre released its financial results?\n"
      ]
    },
    {
      "cell_type": "markdown",
      "metadata": {
        "id": "lnPY6S-sBei7"
      },
      "source": [
        "#### Step 1: Read the search data into a DataFrame, and then slice the data to just the month of May 2020. (During this month, MercadoLibre released its quarterly financial results.) Use hvPlot to visualize the results. Do any unusual patterns exist?"
      ]
    },
    {
      "cell_type": "code",
      "execution_count": null,
      "metadata": {
        "id": "x94x_2Kncq0b"
      },
      "outputs": [],
      "source": [
        "# Global Variables\n",
        "\n",
        "# Date\n",
        "date = 'Date'\n",
        "# Framew Widht\n",
        "frame_width = 1000\n",
        "# Frame Height\n",
        "frame_height = 500\n",
        "# Color\n",
        "color = '#9AF000'\n",
        "# Bakckground Color\n",
        "background_color = '#eeeeee'\n",
        "# Font Sizes\n",
        "font_sizes = {'title': 24, 'labels': 18,'xticks': 12, 'yticks': 12}\n",
        "# Mercado Libre\n",
        "mercado_libre = 'MercadoLibre'\n",
        "# Search Trends\n",
        "search_trends = 'Search Trends'\n",
        "# Lagged Search Trends\n",
        "lagged_search_trends = f'Lagged {search_trends}'\n",
        "# Stock Volatility\n",
        "stock_volatility = 'Stock Volatility'\n",
        "# Font Weight Bold\n",
        "bold = 'bold'\n",
        "# Figure Size\n",
        "figsize = (20,10)\n",
        "# Close\n",
        "close = 'close'\n",
        "# Stock Price\n",
        "stock_price = 'Stock Price'\n",
        "# Forecasted\n",
        "forecasted = 'Forecasted'\n",
        "# Prophet Columns\n",
        "prophet_columns = ['ds','y']\n",
        "# Yhat Columns\n",
        "yhat_columns = ['yhat','yhat_lower','yhat_upper']"
      ]
    },
    {
      "cell_type": "code",
      "execution_count": null,
      "metadata": {
        "id": "-SsNcCkU1xNK"
      },
      "outputs": [],
      "source": [
        "# Utility lambda method to read and return DataFrame\n",
        "get_dated_df = lambda title, is_lowercase=True: pd.read_csv(\n",
        "  f'{title}.csv',\n",
        "  index_col=date.lower() if is_lowercase else date,\n",
        "  parse_dates=True,\n",
        "  infer_datetime_format=True\n",
        ")"
      ]
    },
    {
      "cell_type": "code",
      "execution_count": null,
      "metadata": {
        "id": "YZY0fgyK2T69"
      },
      "outputs": [],
      "source": [
        "# Utility lambda method to display the head and tail of a DataFrame\n",
        "display_head_tail = lambda df: display(df.head(),df.tail())"
      ]
    },
    {
      "cell_type": "code",
      "execution_count": null,
      "metadata": {
        "id": "_Py0Bn3CBei7"
      },
      "outputs": [],
      "source": [
        "# Upload the \"google_hourly_search_trends.csv\" file into Colab, then store in a Pandas DataFrame\n",
        "# Set the \"Date\" column as the Datetime Index.\n",
        "files.upload()\n",
        "\n",
        "df_mercado_trends = get_dated_df('google_hourly_search_trends', False)\n",
        "\n",
        "# Review the first and last five rows of the DataFrame\n",
        "display_head_tail(df_mercado_trends)"
      ]
    },
    {
      "cell_type": "code",
      "execution_count": null,
      "metadata": {
        "id": "Rj4_wH75Bei7"
      },
      "outputs": [],
      "source": [
        "# Review the data types of the DataFrame using the info function\n",
        "df_mercado_trends.dtypes"
      ]
    },
    {
      "cell_type": "code",
      "execution_count": null,
      "metadata": {
        "id": "2GxVSAJPAw5M"
      },
      "outputs": [],
      "source": [
        "# Utility lambda method to plot DataFrame\n",
        "plot_df = lambda df, title: df.hvplot(\n",
        "  title=title, \n",
        "  grid=True,\n",
        "  frame_width=frame_width,\n",
        "  frame_height=frame_height,\n",
        "  color=color\n",
        ").opts(\n",
        "  bgcolor=background_color, \n",
        "  fontsize=font_sizes\n",
        ")"
      ]
    },
    {
      "cell_type": "code",
      "execution_count": null,
      "metadata": {
        "id": "ON6CVvYthyAk"
      },
      "outputs": [],
      "source": [
        "# Utility lambda method to set bokeh as the Holoviews extension\n",
        "set_hv_extension_bokeh = lambda: hv.extension('bokeh')"
      ]
    },
    {
      "cell_type": "code",
      "execution_count": null,
      "metadata": {
        "id": "PvRDuZxCBei7"
      },
      "outputs": [],
      "source": [
        "# Holoviews extension to render hvPlots in Colab\n",
        "set_hv_extension_bokeh()\n",
        "\n",
        "# Slice the DataFrame to just the month of May 2020\n",
        "df_may_2020 = df_mercado_trends.loc['2020-05']\n",
        "\n",
        "# Use hvPlot to visualize the data for May 2020\n",
        "plot_df(df_may_2020,f'{mercado_libre} {search_trends} May 2020')\n"
      ]
    },
    {
      "cell_type": "markdown",
      "metadata": {
        "id": "xH0T-Kd_f7Nt"
      },
      "source": [
        "**Question:** Do any unusual patterns exist?\n",
        "\n",
        "**Answer:** On 5/04 and 5/05 the search trends spike ~20%."
      ]
    },
    {
      "cell_type": "markdown",
      "metadata": {
        "id": "FAnMU7joBei8"
      },
      "source": [
        "#### Step 2: Calculate the total search traffic for the month, and then compare the value to the monthly median across all months. Did the Google search traffic increase during the month that MercadoLibre released its financial results?"
      ]
    },
    {
      "cell_type": "code",
      "execution_count": null,
      "metadata": {
        "id": "-i1NZXATBei8"
      },
      "outputs": [],
      "source": [
        "# Calculate the sum of the total search traffic for May 2020\n",
        "traffic_may_2020 = df_may_2020[search_trends].sum()\n",
        "\n",
        "# View the traffic_may_2020 value\n",
        "traffic_may_2020\n"
      ]
    },
    {
      "cell_type": "code",
      "execution_count": null,
      "metadata": {
        "id": "BlQT5j9hBei8"
      },
      "outputs": [],
      "source": [
        "# Calcluate the monhtly median search traffic across all months \n",
        "# Group the DataFrame by index year and then index month, chain the sum and then the median functions\n",
        "median_monthly_traffic = df_mercado_trends.groupby(by=[df_mercado_trends.index.year,df_mercado_trends.index.month])[search_trends].sum().median()\n",
        "\n",
        "# View the median_monthly_traffic value\n",
        "median_monthly_traffic\n"
      ]
    },
    {
      "cell_type": "code",
      "execution_count": null,
      "metadata": {
        "id": "nuIeX8-wBei8"
      },
      "outputs": [],
      "source": [
        "# Compare the seach traffic for the month of May 2020 to the overall monthly median value\n",
        "traffic_may_2020 > median_monthly_traffic\n"
      ]
    },
    {
      "cell_type": "markdown",
      "metadata": {
        "id": "kmMhXOArBei8"
      },
      "source": [
        "##### Answer the following question: "
      ]
    },
    {
      "cell_type": "markdown",
      "metadata": {
        "id": "wSat7ztQBei9"
      },
      "source": [
        "**Question:** Did the Google search traffic increase during the month that MercadoLibre released its financial results?\n",
        "\n",
        "**Answer:** Yes\n"
      ]
    },
    {
      "cell_type": "markdown",
      "metadata": {
        "id": "h8c7GVAoBei9"
      },
      "source": [
        "## Step 2: Mine the Search Traffic Data for Seasonality\n",
        "\n",
        "Marketing realizes that they can use the hourly search data, too. If they can track and predict interest in the company and its platform for any time of day, they can focus their marketing efforts around the times that have the most traffic. This will get a greater return on investment (ROI) from their marketing budget.\n",
        "\n",
        "To that end, you want to mine the search traffic data for predictable seasonal patterns of interest in the company. To do so, complete the following steps:\n",
        "\n",
        "1. Group the hourly search data to plot the average traffic by the day of the week (for example, Monday vs. Friday).\n",
        "\n",
        "2. Using hvPlot, visualize this traffic as a heatmap, referencing the `index.hour` as the x-axis and the `index.dayofweek` as the y-axis. Does any day-of-week effect that you observe concentrate in just a few hours of that day?\n",
        "\n",
        "3. Group the search data by the week of the year. Does the search traffic tend to increase during the winter holiday period (weeks 40 through 52)?\n"
      ]
    },
    {
      "cell_type": "markdown",
      "metadata": {
        "id": "ULiIFgqlBei9"
      },
      "source": [
        "#### Step 1: Group the hourly search data to plot the average traffic by the day of the week (for example, Monday vs. Friday)."
      ]
    },
    {
      "cell_type": "code",
      "execution_count": null,
      "metadata": {
        "id": "2sxlJDYse0J_"
      },
      "outputs": [],
      "source": [
        "# Utility method to get title\n",
        "get_average_traffic_title = lambda timeframe: f'{mercado_libre} Average {timeframe} Traffic'"
      ]
    },
    {
      "cell_type": "code",
      "execution_count": null,
      "metadata": {
        "id": "80PI3DVxBei9"
      },
      "outputs": [],
      "source": [
        "# Holoviews extension to render hvPlots in Colab\n",
        "set_hv_extension_bokeh()\n",
        "\n",
        "# Group the hourly search data to plot (use hvPlot) the average traffic by the day of week \n",
        "# Saving DataFrame\n",
        "average_daily_traffic_df = df_mercado_trends.groupby(by=[df_mercado_trends.index.dayofweek]).mean()\n",
        "# Plotting DataFrame\n",
        "plot_df(average_daily_traffic_df, get_average_traffic_title(\"Daily\"))"
      ]
    },
    {
      "cell_type": "markdown",
      "metadata": {
        "id": "VhuDTjDsBei9"
      },
      "source": [
        "#### Step 2: Using hvPlot, visualize this traffic as a heatmap, referencing the `index.hour` as the x-axis and the `index.dayofweek` as the y-axis. Does any day-of-week effect that you observe concentrate in just a few hours of that day?"
      ]
    },
    {
      "cell_type": "code",
      "execution_count": null,
      "metadata": {
        "id": "J6wrGorrBei9"
      },
      "outputs": [],
      "source": [
        "# Holoviews extension to render hvPlots in Colab\n",
        "set_hv_extension_bokeh()\n",
        "\n",
        "# Use hvPlot to visualize the hour of the day and day of week search traffic as a heatmap.\n",
        "df_mercado_trends.hvplot.heatmap(\n",
        "  x='index.hour',\n",
        "  y='index.dayofweek',\n",
        "  xlabel='Hour',\n",
        "  ylabel='Day of the Week',\n",
        "  xticks=list(range(0,24)),\n",
        "  C=search_trends,\n",
        "  title= f'{mercado_libre} Hourly vs Daily {search_trends} Heatmap', \n",
        "  grid=True,\n",
        "  frame_width=frame_width,\n",
        "  frame_height=frame_height,\n",
        "  cmap='bwr'\n",
        ").aggregate(\n",
        "  function=np.mean\n",
        ").opts(\n",
        "  bgcolor=background_color, \n",
        "  fontsize=font_sizes\n",
        ")"
      ]
    },
    {
      "cell_type": "markdown",
      "metadata": {
        "id": "qjAGSVxwBei9"
      },
      "source": [
        "##### Answer the following question:"
      ]
    },
    {
      "cell_type": "markdown",
      "metadata": {
        "id": "9I1TnZkaBei9"
      },
      "source": [
        "**Question:** Does any day-of-week effect that you observe concentrate in just a few hours of that day?\n",
        "\n",
        "**Answer:** Yes, the concentration is focused on hours 7-9."
      ]
    },
    {
      "cell_type": "markdown",
      "metadata": {
        "id": "_I24RNJMBei-"
      },
      "source": [
        "#### Step 3: Group the search data by the week of the year. Does the search traffic tend to increase during the winter holiday period (weeks 40 through 52)?"
      ]
    },
    {
      "cell_type": "code",
      "execution_count": null,
      "metadata": {
        "id": "QniFKo5MBei-"
      },
      "outputs": [],
      "source": [
        "# Holoviews extension to render hvPlots in Colab\n",
        "set_hv_extension_bokeh()\n",
        "\n",
        "# Group the hourly search data to plot (use hvPlot) the average traffic by the week of the year\n",
        "# Saving DataFrame\n",
        "average_weekly_traffic_df = df_mercado_trends.groupby(by=[df_mercado_trends.index.weekofyear]).mean()\n",
        "# Plotting DataFrame\n",
        "plot_df(average_weekly_traffic_df,get_average_traffic_title(\"Weekly\"))"
      ]
    },
    {
      "cell_type": "markdown",
      "metadata": {
        "id": "LFtAi4ppBei-"
      },
      "source": [
        "##### Answer the following question:"
      ]
    },
    {
      "cell_type": "markdown",
      "metadata": {
        "id": "H_czb3JEBei-"
      },
      "source": [
        "**Question:** Does the search traffic tend to increase during the winter holiday period (weeks 40 through 52)?\n",
        "\n",
        "**Answer:** Yes, however, not by a significant factor. For the entire period search trends only vary between 45 and 51. "
      ]
    },
    {
      "cell_type": "markdown",
      "metadata": {
        "id": "QqoXO3qhBei-"
      },
      "source": [
        "## Step 3: Relate the Search Traffic to Stock Price Patterns\n",
        "\n",
        "You mention your work on the search traffic data during a meeting with people in the finance group at the company. They want to know if any relationship between the search data and the company stock price exists, and they ask if you can investigate.\n",
        "\n",
        "To do so, complete the following steps:\n",
        "\n",
        "1. Read in and plot the stock price data. Concatenate the stock price data to the search data in a single DataFrame.\n",
        "\n",
        "2. Market events emerged during the year of 2020 that many companies found difficult. But, after the initial shock to global financial markets, new customers and revenue increased for e-commerce platforms. Slice the data to just the first half of 2020 (`2020-01` to `2020-06` in the DataFrame), and then use hvPlot to plot the data. Do both time series indicate a common trend that’s consistent with this narrative?\n",
        "\n",
        "3. Create a new column in the DataFrame named “Lagged Search Trends” that offsets, or shifts, the search traffic by one hour. Create two additional columns:\n",
        "\n",
        "    * “Stock Volatility”, which holds an exponentially weighted four-hour rolling average of the company’s stock volatility\n",
        "\n",
        "    * “Hourly Stock Return”, which holds the percent change of the company's stock price on an hourly basis\n",
        "\n",
        "4. Review the time series correlation, and then answer the following question: Does a predictable relationship exist between the lagged search traffic and the stock volatility or between the lagged search traffic and the stock price returns?\n"
      ]
    },
    {
      "cell_type": "markdown",
      "metadata": {
        "id": "gw342q2TBei-"
      },
      "source": [
        "#### Step 1: Read in and plot the stock price data. Concatenate the stock price data to the search data in a single DataFrame."
      ]
    },
    {
      "cell_type": "code",
      "execution_count": null,
      "metadata": {
        "id": "mCmq91V3Bei-"
      },
      "outputs": [],
      "source": [
        "# Upload the \"mercado_stock_price.csv\" file into Colab, then store in a Pandas DataFrame\n",
        "# Set the \"date\" column as the Datetime Index.\n",
        "files.upload()\n",
        "\n",
        "df_mercado_stock = get_dated_df('mercado_stock_price')\n",
        "\n",
        "# View the first and last five rows of the DataFrame\n",
        "display_head_tail(df_mercado_stock)\n"
      ]
    },
    {
      "cell_type": "code",
      "execution_count": null,
      "metadata": {
        "id": "kq3pd8dNBei-"
      },
      "outputs": [],
      "source": [
        "# Holoviews extension to render hvPlots in Colab\n",
        "set_hv_extension_bokeh()\n",
        "\n",
        "# Use hvPlot to visualize the closing price of the df_mercado_stock DataFrame\n",
        "plot_df(df_mercado_stock,f'{mercado_libre} {stock_price} 2015-2020')"
      ]
    },
    {
      "cell_type": "code",
      "execution_count": null,
      "metadata": {
        "id": "8FjCDunRBei_"
      },
      "outputs": [],
      "source": [
        "# Concatenate the df_mercado_stock DataFrame with the df_mercado_trends DataFrame\n",
        "# Concatenate the DataFrame by columns (axis=1), and drop and rows with only one column of data\n",
        "mercado_stock_trends_df = pd.concat([df_mercado_trends,df_mercado_stock], axis=1, join='inner').dropna()\n",
        "\n",
        "# View the first and last five rows of the DataFrame\n",
        "display_head_tail(mercado_stock_trends_df)\n"
      ]
    },
    {
      "cell_type": "markdown",
      "metadata": {
        "id": "EHbI617MBei_"
      },
      "source": [
        "#### Step 2: Market events emerged during the year of 2020 that many companies found difficult. But, after the initial shock to global financial markets, new customers and revenue increased for e-commerce platforms. Slice the data to just the first half of 2020 (`2020-01` to `2020-06` in the DataFrame), and then use hvPlot to plot the data. Do both time series indicate a common trend that’s consistent with this narrative?"
      ]
    },
    {
      "cell_type": "code",
      "execution_count": null,
      "metadata": {
        "id": "-Nk2LdAVBei_"
      },
      "outputs": [],
      "source": [
        "# For the combined dataframe, slice to just the first half of 2020 (2020-01 through 2020-06) \n",
        "first_half_2020 = mercado_stock_trends_df.loc['2020-01':'2020-06']\n",
        "\n",
        "# View the first and last five rows of first_half_2020 DataFrame\n",
        "display_head_tail(first_half_2020)"
      ]
    },
    {
      "cell_type": "code",
      "execution_count": null,
      "metadata": {
        "id": "Rc_-iPXxBei_"
      },
      "outputs": [],
      "source": [
        "# Holoviews extension to render hvPlots in Colab\n",
        "set_hv_extension_bokeh()\n",
        "\n",
        "# Use hvPlot to visualize the close and Search Trends data\n",
        "# Plot each column on a separate axes using the following syntax\n",
        "# `hvplot(shared_axes=False, subplots=True).cols(1)`\n",
        "first_half_2020.hvplot(\n",
        "  title=f'{mercado_libre} {search_trends} & {stock_price} January-June 2020', \n",
        "  grid=True,\n",
        "  color=color,\n",
        "  frame_width=frame_width,\n",
        "  frame_height=frame_height,\n",
        "  shared_axes=False, \n",
        "  subplots=True\n",
        ").cols(1)"
      ]
    },
    {
      "cell_type": "markdown",
      "metadata": {
        "id": "aHTscSrKBei_"
      },
      "source": [
        "##### Answer the following question:"
      ]
    },
    {
      "cell_type": "markdown",
      "metadata": {
        "id": "dyaBfKZPBei_"
      },
      "source": [
        "**Question:** Do both time series indicate a common trend that’s consistent with this narrative?\n",
        "\n",
        "**Answer:** Search trends do not seem to match the increasing strock price following the events of 2020."
      ]
    },
    {
      "cell_type": "markdown",
      "metadata": {
        "id": "Pk1G3npFBei_"
      },
      "source": [
        "#### Step 3: Create a new column in the DataFrame named “Lagged Search Trends” that offsets, or shifts, the search traffic by one hour. Create two additional columns:\n",
        "\n",
        "* “Stock Volatility”, which holds an exponentially weighted four-hour rolling average of the company’s stock volatility\n",
        "\n",
        "* “Hourly Stock Return”, which holds the percent change of the company's stock price on an hourly basis\n"
      ]
    },
    {
      "cell_type": "code",
      "execution_count": null,
      "metadata": {
        "id": "kPLQ7y5WBejA"
      },
      "outputs": [],
      "source": [
        "# Create a new column in the mercado_stock_trends_df DataFrame called Lagged Search Trends\n",
        "# This column should shift the Search Trends information by one hour\n",
        "mercado_stock_trends_df[lagged_search_trends] = mercado_stock_trends_df[search_trends].shift(1)"
      ]
    },
    {
      "cell_type": "code",
      "execution_count": null,
      "metadata": {
        "id": "i5LGbmV5BejA"
      },
      "outputs": [],
      "source": [
        "# Create a new column in the mercado_stock_trends_df DataFrame called Stock Volatility\n",
        "# This column should calculate the standard deviation of the closing stock price return data over a 4 period rolling window\n",
        "mercado_stock_trends_df[stock_volatility] = mercado_stock_trends_df[close].pct_change().rolling(window=4).std()\n"
      ]
    },
    {
      "cell_type": "code",
      "execution_count": null,
      "metadata": {
        "id": "cRpxdUkEBejA"
      },
      "outputs": [],
      "source": [
        "# Holoviews extension to render hvPlots in Colab\n",
        "set_hv_extension_bokeh()\n",
        "\n",
        "# Use hvPlot to visualize the stock volatility\n",
        "plot_df(mercado_stock_trends_df[stock_volatility],f'{mercado_libre} {stock_volatility} 2016-2020')"
      ]
    },
    {
      "cell_type": "markdown",
      "metadata": {
        "id": "hPU6Yj1eBejA"
      },
      "source": [
        "**Solution Note:** Note how volatility spiked, and tended to stay high, during the first half of 2020. This is a common characteristic of volatility in stock returns worldwide: high volatility days tend to be followed by yet more high volatility days. When it rains, it pours."
      ]
    },
    {
      "cell_type": "code",
      "execution_count": null,
      "metadata": {
        "id": "-Fnl3GqoBejA"
      },
      "outputs": [],
      "source": [
        "# Create a new column in the mercado_stock_trends_df DataFrame called Hourly Stock Return\n",
        "# This column should calculate hourly return percentage of the closing price\n",
        "mercado_stock_trends_df['Hourly Stock Return'] = mercado_stock_trends_df[close].pct_change()\n"
      ]
    },
    {
      "cell_type": "code",
      "execution_count": null,
      "metadata": {
        "id": "7Bz7Y9tABejA"
      },
      "outputs": [],
      "source": [
        "# View the first and last five rows of the mercado_stock_trends_df DataFrame\n",
        "display_head_tail(mercado_stock_trends_df)\n"
      ]
    },
    {
      "cell_type": "markdown",
      "metadata": {
        "id": "jGNS4jFBBejA"
      },
      "source": [
        "#### Step 4: Review the time series correlation, and then answer the following question: Does a predictable relationship exist between the lagged search traffic and the stock volatility or between the lagged search traffic and the stock price returns?"
      ]
    },
    {
      "cell_type": "code",
      "execution_count": null,
      "metadata": {
        "id": "UMkViabfBejA"
      },
      "outputs": [],
      "source": [
        "# Construct correlation table of Stock Volatility, Lagged Search Trends, and Hourly Stock Return\n",
        "mercado_stock_trends_df[[stock_volatility,lagged_search_trends,'Hourly Stock Return']].corr()\n"
      ]
    },
    {
      "cell_type": "markdown",
      "metadata": {
        "id": "l3P8xNFpBejA"
      },
      "source": [
        "##### Answer the following question:\n"
      ]
    },
    {
      "cell_type": "markdown",
      "metadata": {
        "id": "Qfn9JNGlBejB"
      },
      "source": [
        "**Question:** Does a predictable relationship exist between the lagged search traffic and the stock volatility or between the lagged search traffic and the stock price returns?\n",
        "\n",
        "**Answer:** There is no meaningful coorelation between any of the data series. "
      ]
    },
    {
      "cell_type": "markdown",
      "metadata": {
        "id": "9wW2tgjjBejB"
      },
      "source": [
        "## Step 4: Create a Time Series Model with Prophet\n",
        "\n",
        "Now, you need to produce a time series model that analyzes and forecasts patterns in the hourly search data. To do so, complete the following steps:\n",
        "\n",
        "1. Set up the Google search data for a Prophet forecasting model.\n",
        "\n",
        "2. After estimating the model, plot the forecast. How's the near-term forecast for the popularity of MercadoLibre?\n",
        "\n",
        "3. Plot the individual time series components of the model to answer the following questions:\n",
        "\n",
        "    * What time of day exhibits the greatest popularity?\n",
        "\n",
        "    * Which day of the week gets the most search traffic?\n",
        "\n",
        "    * What's the lowest point for search traffic in the calendar year?\n"
      ]
    },
    {
      "cell_type": "markdown",
      "metadata": {
        "id": "QRNWlzHSBejB"
      },
      "source": [
        "#### Step 1: Set up the Google search data for a Prophet forecasting model."
      ]
    },
    {
      "cell_type": "code",
      "execution_count": null,
      "metadata": {
        "id": "ExkBZplKBejB"
      },
      "outputs": [],
      "source": [
        "# Using the df_mercado_trends DataFrame, reset the index so the date information is no longer the index\n",
        "mercado_prophet_df = df_mercado_trends.copy().reset_index()\n",
        "# Label the columns ds and y so that the syntax is recognized by Prophet\n",
        "mercado_prophet_df.columns = prophet_columns\n",
        "\n",
        "# Drop an NaN values from the prophet_df DataFrame\n",
        "mercado_prophet_df = mercado_prophet_df.dropna()\n",
        "\n",
        "# View the first and last five rows of the mercado_prophet_df DataFrame\n",
        "display_head_tail(mercado_prophet_df)"
      ]
    },
    {
      "cell_type": "code",
      "execution_count": null,
      "metadata": {
        "id": "7aa5gE1HBejB"
      },
      "outputs": [],
      "source": [
        "# Call the Prophet function, store as an object\n",
        "model_mercado_trends = Prophet()\n"
      ]
    },
    {
      "cell_type": "code",
      "execution_count": null,
      "metadata": {
        "id": "1NKxZ4KXBejB"
      },
      "outputs": [],
      "source": [
        "# Fit the time-series model.\n",
        "model_mercado_trends.fit(mercado_prophet_df)\n"
      ]
    },
    {
      "cell_type": "code",
      "execution_count": null,
      "metadata": {
        "id": "qYw95T_uBejB"
      },
      "outputs": [],
      "source": [
        "# Create a future dataframe to hold predictions\n",
        "# Make the prediction go out as far as 2000 hours (approx 80 days)\n",
        "future_mercado_trends = model_mercado_trends.make_future_dataframe(periods=2000, freq='H')\n",
        "\n",
        "# View the last five rows of the future_mercado_trends DataFrame\n",
        "future_mercado_trends.tail()\n"
      ]
    },
    {
      "cell_type": "code",
      "execution_count": null,
      "metadata": {
        "id": "-gpfv69NBejB"
      },
      "outputs": [],
      "source": [
        "# Make the predictions for the trend data using the future_mercado_trends DataFrame\n",
        "forecast_mercado_trends = model_mercado_trends.predict(future_mercado_trends)\n",
        "\n",
        "# Display the first five rows of the forecast_mercado_trends DataFrame\n",
        "forecast_mercado_trends.head()\n"
      ]
    },
    {
      "cell_type": "markdown",
      "metadata": {
        "id": "ffFSiEbkBejB"
      },
      "source": [
        "#### Step 2: After estimating the model, plot the forecast. How's the near-term forecast for the popularity of MercadoLibre?"
      ]
    },
    {
      "cell_type": "code",
      "execution_count": null,
      "metadata": {
        "id": "5VBlcUgQm0Qv"
      },
      "outputs": [],
      "source": [
        "# Utility method to plot forecast\n",
        "def plot_forecast(model,forecast_df,title,ylabel):\n",
        "  # Plotting DataFrame\n",
        "  plot = model.plot(forecast_df,figsize=figsize)\n",
        "\n",
        "  # Styling with matplotlib.pyplot\n",
        "\n",
        "  # Setting/Styling Title\n",
        "  plt.suptitle(title, fontsize=font_sizes['title'], fontweight=bold);\n",
        "  # Setting/Styling X Label\n",
        "  plt.xlabel(date, fontsize=font_sizes['labels'], fontweight=bold);\n",
        "  # Setting/Styling Y Label\n",
        "  plt.ylabel(ylabel, fontsize=font_sizes['labels'], fontweight=bold);"
      ]
    },
    {
      "cell_type": "code",
      "execution_count": null,
      "metadata": {
        "id": "515QiAgtBejC"
      },
      "outputs": [],
      "source": [
        "# Plot the Prophet predictions for the Mercado trends data\n",
        "plot_forecast(model_mercado_trends,forecast_mercado_trends,f'{mercado_libre} {search_trends} {forecasted}',search_trends)"
      ]
    },
    {
      "cell_type": "markdown",
      "metadata": {
        "id": "PkG2YiYCBejC"
      },
      "source": [
        "##### Answer the following question:"
      ]
    },
    {
      "cell_type": "markdown",
      "metadata": {
        "id": "LGu9W4siBejC"
      },
      "source": [
        "**Question:**  How's the near-term forecast for the popularity of MercadoLibre?\n",
        "\n",
        "**Answer:** Near-term is trending is the negative direction.\n"
      ]
    },
    {
      "cell_type": "markdown",
      "metadata": {
        "id": "BF8lgmc2BejC"
      },
      "source": [
        "#### Step 3: Plot the individual time series components of the model to answer the following questions:\n",
        "\n",
        "* What time of day exhibits the greatest popularity?\n",
        "\n",
        "* Which day of the week gets the most search traffic?\n",
        "\n",
        "* What's the lowest point for search traffic in the calendar year?\n"
      ]
    },
    {
      "cell_type": "code",
      "execution_count": null,
      "metadata": {
        "id": "JdZtL4tr_YvH"
      },
      "outputs": [],
      "source": [
        "# Utility method to set index as ds\n",
        "set_ds_index = lambda df: df.set_index('ds', inplace=True)"
      ]
    },
    {
      "cell_type": "code",
      "execution_count": null,
      "metadata": {
        "id": "DnLz7sYGBejC"
      },
      "outputs": [],
      "source": [
        "# Set the index in the forecast_mercado_trends DataFrame to the ds datetime column\n",
        "set_ds_index(forecast_mercado_trends)\n",
        "\n",
        "# View the only the yhat,yhat_lower and yhat_upper columns from the DataFrame\n",
        "forecast_mercado_trends[yhat_columns]\n"
      ]
    },
    {
      "cell_type": "markdown",
      "metadata": {
        "id": "OqbZw94aBejC"
      },
      "source": [
        "Solutions Note: `yhat` represents the most likely (average) forecast, whereas `yhat_lower` and `yhat_upper` represents the worst and best case prediction (based on what are known as 95% confidence intervals)."
      ]
    },
    {
      "cell_type": "code",
      "execution_count": null,
      "metadata": {
        "id": "RObMHNhRBejC"
      },
      "outputs": [],
      "source": [
        "# Holoviews extension to render hvPlots in Colab\n",
        "set_hv_extension_bokeh()\n",
        "\n",
        "# From the forecast_mercado_trends DataFrame, use hvPlot to visualize\n",
        "#  the yhat, yhat_lower, and yhat_upper columns over the last 2000 hours \n",
        "forecast_mercado_trends[yhat_columns].iloc[-2000:].hvplot(\n",
        "  title=f'{mercado_libre} {forecasted} Trends', \n",
        "  grid=True,\n",
        "  frame_width=frame_width,\n",
        "  frame_height=frame_height,\n",
        "  xlabel=date,\n",
        "  ylabel='Prediction',\n",
        "  group_label='Y Hat',\n",
        ").opts(\n",
        "  bgcolor=background_color, \n",
        "  fontsize={\n",
        "    'title': 24, \n",
        "    'labels': 18,\n",
        "    'xticks': 12, \n",
        "    'yticks': 12,\n",
        "    'legend_title': 18,\n",
        "    'legend': 12\n",
        "  }\n",
        ")\n"
      ]
    },
    {
      "cell_type": "code",
      "execution_count": null,
      "metadata": {
        "id": "XWbefdX5oxxh"
      },
      "outputs": [],
      "source": [
        "# Utility method to plot forecast\n",
        "def plot_forecast_components(model,forecast,title):\n",
        "  # Plotting DataFrame\n",
        "  plot = model.plot_components(forecast, figsize=figsize)\n",
        "  # Styling Title\n",
        "  plt.suptitle(title, fontsize=font_sizes['title'], fontweight=bold);"
      ]
    },
    {
      "cell_type": "code",
      "execution_count": null,
      "metadata": {
        "id": "HtRwjUsFBejC"
      },
      "outputs": [],
      "source": [
        "# Reset the index in the forecast_mercado_trends DataFrame\n",
        "forecast_mercado_trends.reset_index(inplace=True)\n",
        "\n",
        "# Use the plot_components function to visualize the forecast results \n",
        "plot_forecast_components(model_mercado_trends,forecast_mercado_trends,f'{mercado_libre} {forecasted} Components')"
      ]
    },
    {
      "cell_type": "markdown",
      "metadata": {
        "id": "Km-1vHc_BejC"
      },
      "source": [
        "##### Answer the following questions:"
      ]
    },
    {
      "cell_type": "markdown",
      "metadata": {
        "id": "xkopRaksBejC"
      },
      "source": [
        "**Question:** What time of day exhibits the greatest popularity?\n",
        "\n",
        "**Answer:** 00:00:00"
      ]
    },
    {
      "cell_type": "markdown",
      "metadata": {
        "id": "6r9xMpr_BejD"
      },
      "source": [
        "**Question:** Which day of week gets the most search traffic? \n",
        "   \n",
        "**Answer:** Tuesday."
      ]
    },
    {
      "cell_type": "markdown",
      "metadata": {
        "id": "abVZGpDbBejD"
      },
      "source": [
        "**Question:** What's the lowest point for search traffic in the calendar year?\n",
        "\n",
        "**Answer:** Late October."
      ]
    },
    {
      "cell_type": "markdown",
      "metadata": {
        "id": "SfEr-RJ5BejD"
      },
      "source": [
        "## Step 5 (Optional): Forecast Revenue by Using Time Series Models\n",
        "\n",
        "A few weeks after your initial analysis, the finance group follows up to find out if you can help them solve a different problem. Your fame as a growth analyst in the company continues to grow!\n",
        "\n",
        "Specifically, the finance group wants a forecast of the total sales for the next quarter. This will dramatically increase their ability to plan budgets and to help guide expectations for the company investors.\n",
        "\n",
        "To do so, complete the following steps:\n",
        "\n",
        "1. Read in the daily historical sales (that is, revenue) figures, and then apply a Prophet model to the data. The daily sales figures are quoted in millions of USD dollars.\n",
        "\n",
        "2. Interpret the model output to identify any seasonal patterns in the company's revenue. For example, what are the peak revenue days? (Mondays? Fridays? Something else?)\n",
        "\n",
        "3. Produce a sales forecast for the finance group. Give them a number for the expected total sales in the next quarter. Include the best- and worst-case scenarios to help them make better plans.\n",
        "\n",
        "\n"
      ]
    },
    {
      "cell_type": "markdown",
      "metadata": {
        "id": "jr330RgkBejD"
      },
      "source": [
        "#### Step 1: Read in the daily historical sales (that is, revenue) figures, and then apply a Prophet model to the data."
      ]
    },
    {
      "cell_type": "code",
      "execution_count": null,
      "metadata": {
        "id": "WMA8YGqnBejD"
      },
      "outputs": [],
      "source": [
        "# Upload the \"mercado_daily_revenue.csv\" file into Colab, then store in a Pandas DataFrame\n",
        "# Set the \"date\" column as the DatetimeIndex\n",
        "# Sales are quoted in millions of US dollars\n",
        "files.upload()\n",
        "\n",
        "df_mercado_sales = get_dated_df('mercado_daily_revenue')\n",
        "\n",
        "# Review the DataFrame\n",
        "df_mercado_sales\n"
      ]
    },
    {
      "cell_type": "code",
      "execution_count": null,
      "metadata": {
        "id": "Okkpns6-BejD"
      },
      "outputs": [],
      "source": [
        "# Holoviews extension to render hvPlots in Colab\n",
        "set_hv_extension_bokeh()\n",
        "\n",
        "# Use hvPlot to visualize the daily sales figures \n",
        "plot_df(df_mercado_sales,f'{mercado_libre} Daily Revenue')\n"
      ]
    },
    {
      "cell_type": "code",
      "execution_count": null,
      "metadata": {
        "id": "0SLhRDe2BejD"
      },
      "outputs": [],
      "source": [
        "# Apply a Facebook Prophet model to the data.\n",
        "\n",
        "# Set up the dataframe in the neccessary format:\n",
        "# Reset the index so that date becomes a column in the DataFrame\n",
        "mercado_sales_prophet_df = df_mercado_sales.copy().reset_index()\n",
        "\n",
        "# Adjust the columns names to the Prophet syntax\n",
        "mercado_sales_prophet_df.columns = prophet_columns\n",
        "\n",
        "# Visualize the DataFrame\n",
        "mercado_sales_prophet_df"
      ]
    },
    {
      "cell_type": "code",
      "execution_count": null,
      "metadata": {
        "id": "IQSZn3okBejD"
      },
      "outputs": [],
      "source": [
        "# Create the model\n",
        "mercado_sales_prophet_model = Prophet()\n",
        "\n",
        "# Fit the model\n",
        "mercado_sales_prophet_model.fit(mercado_sales_prophet_df)"
      ]
    },
    {
      "cell_type": "code",
      "execution_count": null,
      "metadata": {
        "id": "FWQTo7TBBejD"
      },
      "outputs": [],
      "source": [
        "# Predict sales for 90 days (1 quarter) out into the future.\n",
        "\n",
        "# Start by making a future dataframe\n",
        "mercado_sales_prophet_future = mercado_sales_prophet_model.make_future_dataframe(periods=90, freq='D')\n",
        "\n",
        "# Display the last five rows of the future DataFrame\n",
        "mercado_sales_prophet_future.tail()\n"
      ]
    },
    {
      "cell_type": "code",
      "execution_count": null,
      "metadata": {
        "id": "c7J-OVCUBejE"
      },
      "outputs": [],
      "source": [
        "# Make predictions for the sales each day over the next quarter\n",
        "mercado_sales_prophet_forecast = mercado_sales_prophet_model.predict(mercado_sales_prophet_future)\n",
        "\n",
        "# Display the first 5 rows of the resulting DataFrame\n",
        "mercado_sales_prophet_forecast.head()\n"
      ]
    },
    {
      "cell_type": "markdown",
      "metadata": {
        "id": "hPzm4WtEBejE"
      },
      "source": [
        "#### Step 2: Interpret the model output to identify any seasonal patterns in the company's revenue. For example, what are the peak revenue days? (Mondays? Fridays? Something else?)"
      ]
    },
    {
      "cell_type": "code",
      "execution_count": null,
      "metadata": {
        "id": "6sbxmxdUBejE"
      },
      "outputs": [],
      "source": [
        "# Use the plot_components function to analyze seasonal patterns in the company's revenue\n",
        "plot_forecast_components(mercado_sales_prophet_model,mercado_sales_prophet_forecast,f'{mercado_libre} Revenue {forecasted}')"
      ]
    },
    {
      "cell_type": "markdown",
      "metadata": {
        "id": "hmEIZnmgBejE"
      },
      "source": [
        "##### Answer the following question:"
      ]
    },
    {
      "cell_type": "markdown",
      "metadata": {
        "id": "4pa5F7RcBejE"
      },
      "source": [
        "**Question:** For example, what are the peak revenue days? (Mondays? Fridays? Something else?)\n",
        "\n",
        "**Answer:** Monday-Wednesday are the best revenue days, with Wednesday being the highest. "
      ]
    },
    {
      "cell_type": "markdown",
      "metadata": {
        "id": "5KTUw0iDBejE"
      },
      "source": [
        "#### Step 3: Produce a sales forecast for the finance group. Give them a number for the expected total sales in the next quarter. Include the best- and worst-case scenarios to help them make better plans."
      ]
    },
    {
      "cell_type": "code",
      "execution_count": null,
      "metadata": {
        "id": "kLzcclh4BejE"
      },
      "outputs": [],
      "source": [
        "# Plot the predictions for the Mercado sales\n",
        "plot_forecast(mercado_sales_prophet_model,mercado_sales_prophet_forecast,f'{mercado_libre} Sales {forecasted}','Sales')\n"
      ]
    },
    {
      "cell_type": "code",
      "execution_count": null,
      "metadata": {
        "id": "zo2eh9jXBejE"
      },
      "outputs": [],
      "source": [
        "# For the mercado_sales_prophet_forecast DataFrame, set the ds column as the DataFrame Index\n",
        "set_ds_index(mercado_sales_prophet_forecast)\n",
        "\n",
        "# Display the first and last five rows of the DataFrame\n",
        "display_head_tail(mercado_sales_prophet_forecast)\n"
      ]
    },
    {
      "cell_type": "code",
      "execution_count": null,
      "metadata": {
        "id": "o7mfmJeFBejE"
      },
      "outputs": [],
      "source": [
        "# Produce a sales forecast for the finance division\n",
        "# giving them a number for expected total sales next quarter.\n",
        "# Provide best case (yhat_upper), worst case (yhat_lower), and most likely (yhat) scenarios.\n",
        "\n",
        "# Create a forecast_quarter Dataframe for the period 2020-07-01 to 2020-09-30\n",
        "# The DataFrame should include the columns yhat_upper, yhat_lower, and yhat\n",
        "\n",
        "# Generating forecast Data through 2020-09-30\n",
        "forecast_quarter = mercado_sales_prophet_model.make_future_dataframe(periods=139, freq='D')\n",
        "# Getting predicted forecast, setting 'ds' as index, grabbing columns yhat_upper, yhat_lower, and yhat, for the period 2020-07-01 to 2020-09-30\n",
        "forecast_quarter = mercado_sales_prophet_model.predict(forecast_quarter).set_index('ds')[yhat_columns].loc['2020-07':]\n",
        "\n",
        "# Update the column names for the forecast_quarter DataFrame\n",
        "# to match what the finance division is looking for \n",
        "forecast_quarter = forecast_quarter.rename(\n",
        "    columns={\n",
        "      \"yhat_lower\":\"Worst Case\",                                                                             \n",
        "      \"yhat_upper\":\"Best Case\",                                                                            \n",
        "      \"yhat\":\"Most Likely Case\"\n",
        "    }\n",
        ")\n",
        "\n",
        "# Renaming index\n",
        "forecast_quarter.index.rename('Date',inplace=True)\n",
        "\n",
        "# Review the last five rows of the DataFrame\n",
        "forecast_quarter.tail()"
      ]
    },
    {
      "cell_type": "code",
      "execution_count": null,
      "metadata": {
        "id": "Z36sBcO9BejF"
      },
      "outputs": [],
      "source": [
        "# Displayed the summed values for all the rows in the forecast_quarter DataFrame\n",
        "forecast_quarter.sum()\n"
      ]
    },
    {
      "cell_type": "markdown",
      "metadata": {
        "id": "6PmF5n9fBejF"
      },
      "source": [
        "### Based on the forecast information generated above, produce a sales forecast for the finance division, giving them a number for expected total sales next quarter. Include best and worst case scenarios, to better help the finance team plan.\n",
        "\n",
        "**Answer:** Sales forecast is as follows:\n",
        "Best Case Total Sales - 2338.97\n",
        "Worst Case Total Sales - 1988.11\n",
        "Most Likely Total Sales - 2163.70"
      ]
    }
  ],
  "metadata": {
    "colab": {
      "provenance": []
    },
    "kernelspec": {
      "display_name": "Python 3 (ipykernel)",
      "language": "python",
      "name": "python3"
    },
    "language_info": {
      "codemirror_mode": {
        "name": "ipython",
        "version": 3
      },
      "file_extension": ".py",
      "mimetype": "text/x-python",
      "name": "python",
      "nbconvert_exporter": "python",
      "pygments_lexer": "ipython3",
      "version": "3.10.11"
    }
  },
  "nbformat": 4,
  "nbformat_minor": 0
}